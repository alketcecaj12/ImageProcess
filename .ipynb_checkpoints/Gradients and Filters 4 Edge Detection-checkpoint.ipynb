{
 "cells": [
  {
   "cell_type": "markdown",
   "metadata": {},
   "source": [
    "### Gradients\n",
    "\n",
    "#### Image Gradients\n",
    "\n",
    "We have seen that we can design convolution kernels for blurring an image. We can also design a kernel that fires on sharp intensity discontinuities.\n",
    "\n",
    "The directional change in intensity of pixels is called gradient.\n",
    "\n",
    "The easiest way to understand gradients is to look at a few examples. Below is a piece of modern art created by yours truly. I have marked several locations on my art work with bright red dots and labeled them.\n",
    "\n",
    "<img src = \"images/gradients.jpg\" width = 400 height = 400>\n",
    "\n"
   ]
  },
  {
   "cell_type": "markdown",
   "metadata": {},
   "source": [
    "### Sobel Filter\n",
    "\n",
    "To make gradient calculations even more robust and noisefree, the image can be Gaussian-blurred slightly before applying a gradient filter. As you know, blurring is also a convolution operation. So applying a Gaussian blur filter before applying the gradient filter would require two convolution operations.\n",
    "\n",
    "Wouldn’t it be cool if we could use just one convolution operation that would implicitly blur and then calculate the gradient operations? We are in luck! Convolution is associative. Therefore, it is possible to combine the two convolution operations into one.\n",
    "\n",
    "This where the Sobel Filters come in. They perform Gaussian smoothing implicitly. The Sobel filters for X Gradient and Y Gradient calculations are shown below.\n",
    "\n",
    "<img src = \"images/sobel.jpg\" width = 500 height = 200>"
   ]
  },
  {
   "cell_type": "markdown",
   "metadata": {},
   "source": [
    "### Implement an Edge Detection filter in OpenCV"
   ]
  },
  {
   "cell_type": "code",
   "execution_count": 1,
   "metadata": {},
   "outputs": [],
   "source": [
    "import cv2\n",
    "import numpy as np\n",
    "import matplotlib.pyplot as plt\n",
    "%matplotlib inline\n",
    "\n",
    "filename = \"images/truth.png\"\n",
    "\n",
    "image = cv2.imread(filename, cv2.IMREAD_GRAYSCALE)\n",
    "\n",
    "# Check for invalid input\n",
    "if image is None:  \n",
    "    print(\"Could not open or find the image\")"
   ]
  },
  {
   "cell_type": "code",
   "execution_count": 2,
   "metadata": {},
   "outputs": [
    {
     "data": {
      "image/png": "[encoded data removed]",
      "text/plain": [
       "<Figure size 432x432 with 1 Axes>"
      ]
     },
     "metadata": {
      "needs_background": "light"
     },
     "output_type": "display_data"
    }
   ],
   "source": [
    "plt.figure(figsize = (6,6))\n",
    "plt.imshow(image, cmap = 'gray')\n",
    "plt.title(\"Original Image\");"
   ]
  },
  {
   "cell_type": "markdown",
   "metadata": {},
   "source": [
    "### Apply Sobel filter"
   ]
  },
  {
   "cell_type": "code",
   "execution_count": 3,
   "metadata": {},
   "outputs": [],
   "source": [
    "# Apply sobel filter along x direction\n",
    "sobelx = cv2.Sobel(image, cv2.CV_32F, 1, 0)\n",
    "# Apply sobel filter along y direction\n",
    "sobely = cv2.Sobel(image,cv2.CV_32F ,0 ,1)"
   ]
  },
  {
   "cell_type": "markdown",
   "metadata": {},
   "source": [
    "### Normalize and visualize"
   ]
  },
  {
   "cell_type": "code",
   "execution_count": 4,
   "metadata": {},
   "outputs": [
    {
     "data": {
      "text/plain": [
       "Text(0.5, 1.0, 'Sobel Y Gradients')"
      ]
     },
     "execution_count": 4,
     "metadata": {},
     "output_type": "execute_result"
    },
    {
     "data": {
      "image/png": "[encoded data removed]",
      "text/plain": [
       "<Figure size 864x432 with 2 Axes>"
      ]
     },
     "metadata": {
      "needs_background": "light"
     },
     "output_type": "display_data"
    }
   ],
   "source": [
    "# Normalize image for display\n",
    "cv2.normalize(sobelx, \n",
    "                dst = sobelx, \n",
    "                alpha = 0, \n",
    "                beta = 1, \n",
    "                norm_type = cv2.NORM_MINMAX, \n",
    "                dtype = cv2.CV_32F)\n",
    "cv2.normalize(sobely, \n",
    "                dst = sobely, \n",
    "                alpha = 0, \n",
    "                beta = 1, \n",
    "                norm_type = cv2.NORM_MINMAX, \n",
    "                dtype = cv2.CV_32F)\n",
    "\n",
    "plt.figure(figsize=[12,6])\n",
    "plt.subplot(121);plt.imshow(sobelx, cmap='gray');plt.title(\"Sobel X Gradients\")\n",
    "plt.subplot(122);plt.imshow(sobely, cmap='gray');plt.title(\"Sobel Y Gradients\")"
   ]
  },
  {
   "cell_type": "markdown",
   "metadata": {},
   "source": [
    "### More on Sobel Filter and Edge Detection \n",
    "<a href = \"https://en.wikipedia.org/wiki/Sobel_operator\"> Sobel Operator and Edge Detection</a>"
   ]
  },
  {
   "cell_type": "code",
   "execution_count": null,
   "metadata": {},
   "outputs": [],
   "source": []
  },
  {
   "cell_type": "code",
   "execution_count": null,
   "metadata": {},
   "outputs": [],
   "source": []
  },
  {
   "cell_type": "code",
   "execution_count": null,
   "metadata": {},
   "outputs": [],
   "source": []
  },
  {
   "cell_type": "code",
   "execution_count": null,
   "metadata": {},
   "outputs": [],
   "source": []
  },
  {
   "cell_type": "code",
   "execution_count": null,
   "metadata": {},
   "outputs": [],
   "source": []
  },
  {
   "cell_type": "code",
   "execution_count": null,
   "metadata": {},
   "outputs": [],
   "source": []
  },
  {
   "cell_type": "code",
   "execution_count": null,
   "metadata": {},
   "outputs": [],
   "source": []
  }
 ],
 "metadata": {
  "kernelspec": {
   "display_name": "Python 3",
   "language": "python",
   "name": "python3"
  },
  "language_info": {
   "codemirror_mode": {
    "name": "ipython",
    "version": 3
   },
   "file_extension": ".py",
   "mimetype": "text/x-python",
   "name": "python",
   "nbconvert_exporter": "python",
   "pygments_lexer": "ipython3",
   "version": "3.6.6"
  }
 },
 "nbformat": 4,
 "nbformat_minor": 2
}
