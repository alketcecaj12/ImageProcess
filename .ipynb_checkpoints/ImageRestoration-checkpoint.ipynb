{
 "cells": [
  {
   "cell_type": "markdown",
   "metadata": {},
   "source": [
    "### Image Restoration of President Lincoln Portrait. "
   ]
  },
  {
   "cell_type": "code",
   "execution_count": 1,
   "metadata": {},
   "outputs": [],
   "source": [
    "# https://www.washingtonpost.com/entertainment/museums/photographing-a-nation-in-motion/2015/09/17/64f77616-5d55-11e5-8e9e-dce8a2a2a679_story.html"
   ]
  },
  {
   "cell_type": "markdown",
   "metadata": {},
   "source": [
    "<html>\n",
    "<img src=\"images/Lincoln2.jpg\", width = 300 height = 600>\n",
    "<html>    "
   ]
  },
  {
   "cell_type": "code",
   "execution_count": 2,
   "metadata": {},
   "outputs": [],
   "source": [
    "import numpy as np\n",
    "import cv2 as cv"
   ]
  },
  {
   "cell_type": "code",
   "execution_count": 3,
   "metadata": {},
   "outputs": [],
   "source": [
    "# OpenCV Utility Class for Mouse Handling\n",
    "class Sketcher:\n",
    "    def __init__(self, windowname, dests, colors_func):\n",
    "        self.prev_pt = None\n",
    "        self.windowname = windowname\n",
    "        self.dests = dests\n",
    "        self.colors_func = colors_func\n",
    "        self.dirty = False\n",
    "        self.show()\n",
    "        cv.setMouseCallback(self.windowname, self.on_mouse)\n",
    "\n",
    "    def show(self):\n",
    "        cv.imshow(self.windowname, self.dests[0])\n",
    "        cv.imshow(self.windowname + \": mask\", self.dests[1])\n",
    "\n",
    "    # onMouse function for Mouse Handling\n",
    "    def on_mouse(self, event, x, y, flags, param):\n",
    "        pt = (x, y)\n",
    "        if event == cv.EVENT_LBUTTONDOWN:\n",
    "            self.prev_pt = pt\n",
    "        elif event == cv.EVENT_LBUTTONUP:\n",
    "            self.prev_pt = None\n",
    "\n",
    "        if self.prev_pt and flags & cv.EVENT_FLAG_LBUTTON:\n",
    "            for dst, color in zip(self.dests, self.colors_func()):\n",
    "                cv.line(dst, self.prev_pt, pt, color, 7)\n",
    "            self.dirty = True\n",
    "            self.prev_pt = pt\n",
    "            self.show()"
   ]
  },
  {
   "cell_type": "code",
   "execution_count": 4,
   "metadata": {},
   "outputs": [],
   "source": [
    "# Read image in color mode\n",
    "filename = \"C:/Users/alket/OneDrive/Desktop/MachineLearningCV/images/110.jpg\"\n",
    "img = cv.imread(filename, cv.IMREAD_COLOR)\n",
    "\n",
    "# If image is not read properly, return error\n",
    "if img is None:\n",
    "    print('Failed to load image file: {}'.format(filename))"
   ]
  },
  {
   "cell_type": "code",
   "execution_count": 5,
   "metadata": {
    "scrolled": true
   },
   "outputs": [
    {
     "name": "stdout",
     "output_type": "stream",
     "text": [
      "[[[255 251 252]\n",
      "  [255 251 252]\n",
      "  [255 251 252]\n",
      "  ...\n",
      "  [ 70  93 115]\n",
      "  [ 70  93 115]\n",
      "  [ 70  93 115]]\n",
      "\n",
      " [[255 251 252]\n",
      "  [255 251 252]\n",
      "  [255 251 252]\n",
      "  ...\n",
      "  [ 67  90 112]\n",
      "  [ 67  90 112]\n",
      "  [ 67  90 112]]\n",
      "\n",
      " [[255 251 252]\n",
      "  [255 251 252]\n",
      "  [255 251 252]\n",
      "  ...\n",
      "  [ 48  71  93]\n",
      "  [ 48  71  93]\n",
      "  [ 48  71  93]]\n",
      "\n",
      " ...\n",
      "\n",
      " [[ 65  83 106]\n",
      "  [ 69  87 110]\n",
      "  [ 82 100 123]\n",
      "  ...\n",
      "  [ 76  90 112]\n",
      "  [ 76  91 110]\n",
      "  [ 76  91 110]]\n",
      "\n",
      " [[ 57  75  98]\n",
      "  [ 63  81 104]\n",
      "  [ 78  96 119]\n",
      "  ...\n",
      "  [ 76  90 112]\n",
      "  [ 76  91 110]\n",
      "  [ 76  91 110]]\n",
      "\n",
      " [[ 56  74  97]\n",
      "  [ 61  79 102]\n",
      "  [ 75  93 116]\n",
      "  ...\n",
      "  [ 75  89 111]\n",
      "  [ 75  90 109]\n",
      "  [ 75  90 109]]]\n"
     ]
    }
   ],
   "source": [
    "print(img)"
   ]
  },
  {
   "cell_type": "code",
   "execution_count": 6,
   "metadata": {},
   "outputs": [],
   "source": [
    "# Create a copy of original image\n",
    "img_mask = img.copy()\n",
    "# Create a black copy of original image\n",
    "# Acts as a mask\n",
    "inpaintMask = np.zeros(img.shape[:2], np.uint8)\n",
    "# Create sketch using OpenCV Utility Class: Sketcher\n",
    "sketch = Sketcher('image', [img_mask, inpaintMask], lambda : ((255, 255, 255), 255))"
   ]
  },
  {
   "cell_type": "code",
   "execution_count": null,
   "metadata": {},
   "outputs": [],
   "source": [
    "while True:\n",
    "    ch = cv.waitKey()\n",
    "    if ch == 27:\n",
    "        break\n",
    "    if ch == ord('t'):\n",
    "        # Use Algorithm proposed by Alexendra Telea: Fast Marching Method (2004)\n",
    "        # Reference: https://pdfs.semanticscholar.org/622d/5f432e515da69f8f220fb92b17c8426d0427.pdf\n",
    "        res = cv.inpaint(src=img_mask, inpaintMask=inpaintMask, inpaintRadius=3, flags=cv.INPAINT_TELEA)\n",
    "        cv.imshow('Inpaint Output using FMM', res)\n",
    "    if ch == ord('n'):\n",
    "        # Use Algorithm proposed by Bertalmio, Marcelo, Andrea L. Bertozzi, and Guillermo Sapiro: \n",
    "        # Navier-Stokes, Fluid Dynamics, and Image and Video Inpainting (2001)\n",
    "        res = cv.inpaint(src=img_mask, inpaintMask=inpaintMask, inpaintRadius=3, flags=cv.INPAINT_NS)\n",
    "        cv.imshow('Inpaint Output using NS Technique', res)\n",
    "    if ch == ord('r'):\n",
    "        img_mask[:] = img\n",
    "        inpaintMask[:] = 0\n",
    "        sketch.show()"
   ]
  },
  {
   "cell_type": "code",
   "execution_count": null,
   "metadata": {},
   "outputs": [],
   "source": [
    "cv.destroyAllWindows()"
   ]
  },
  {
   "cell_type": "code",
   "execution_count": null,
   "metadata": {},
   "outputs": [],
   "source": []
  },
  {
   "cell_type": "code",
   "execution_count": null,
   "metadata": {},
   "outputs": [],
   "source": []
  },
  {
   "cell_type": "code",
   "execution_count": null,
   "metadata": {},
   "outputs": [],
   "source": []
  }
 ],
 "metadata": {
  "kernelspec": {
   "display_name": "Python 3",
   "language": "python",
   "name": "python3"
  },
  "language_info": {
   "codemirror_mode": {
    "name": "ipython",
    "version": 3
   },
   "file_extension": ".py",
   "mimetype": "text/x-python",
   "name": "python",
   "nbconvert_exporter": "python",
   "pygments_lexer": "ipython3",
   "version": "3.6.6"
  }
 },
 "nbformat": 4,
 "nbformat_minor": 2
}
